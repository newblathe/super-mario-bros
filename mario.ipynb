{
 "cells": [
  {
   "cell_type": "markdown",
   "id": "b722884e-fd07-4c3e-84b4-8c3c87ca63cd",
   "metadata": {},
   "source": [
    "## 1. Installing the Mario environment"
   ]
  },
  {
   "cell_type": "code",
   "execution_count": null,
   "id": "be91cd92-7712-4812-8162-8e0c990668ac",
   "metadata": {},
   "outputs": [],
   "source": [
    "!pip install gym-super-mario-bros"
   ]
  },
  {
   "cell_type": "code",
   "execution_count": null,
   "id": "8498cbc3-724b-4b9c-b11e-29f4b90b9d5b",
   "metadata": {},
   "outputs": [],
   "source": [
    "from nes_py.wrappers import JoypadSpace\n",
    "JoypadSpace.reset = lambda self, **kwargs: self.env.reset(**kwargs)\n",
    "import gym_super_mario_bros\n",
    "from gym_super_mario_bros.actions import SIMPLE_MOVEMENT"
   ]
  },
  {
   "cell_type": "code",
   "execution_count": null,
   "id": "7937a021-e043-4355-a13d-bd39460e0c2f",
   "metadata": {},
   "outputs": [],
   "source": [
    "env = gym_super_mario_bros.make('SuperMarioBros-v0',apply_api_compatibility=True,render_mode='human')\n",
    "env = JoypadSpace(env, SIMPLE_MOVEMENT)\n",
    "\n",
    "done = True\n",
    "for step in range(5000):\n",
    "    if done:\n",
    "        state = env.reset()\n",
    "    state, reward, done, truncate, info = env.step(env.action_space.sample())\n",
    "    env.render()\n",
    "\n",
    "env.close()"
   ]
  },
  {
   "cell_type": "markdown",
   "id": "c0506502-935a-43bf-b201-dd3a6961602d",
   "metadata": {},
   "source": [
    "## 2. Preprocessing The Environment"
   ]
  },
  {
   "cell_type": "code",
   "execution_count": null,
   "id": "f32ea6b5-301a-448a-8c3a-20c278341e14",
   "metadata": {},
   "outputs": [],
   "source": [
    "#Installing PyTorch\n",
    "!pip install torch torchvision torchaudio --index-url https://download.pytorch.org/whl/cu118"
   ]
  },
  {
   "cell_type": "code",
   "execution_count": null,
   "id": "f831bef3-82ce-4f7d-b67c-de67c09211d1",
   "metadata": {},
   "outputs": [],
   "source": [
    "#Installing Stable-Baselines3\n",
    "!pip install stable-baselines3[extra]"
   ]
  },
  {
   "cell_type": "code",
   "execution_count": null,
   "id": "721d06f2-9513-43e5-a0ca-f57a1c182437",
   "metadata": {},
   "outputs": [],
   "source": [
    "# Importing GrayScaling Wrapper\n",
    "from gym.wrappers import GrayScaleObservation\n",
    "# Importing Vectorization Wrappers\n",
    "from stable_baselines3.common.vec_env import VecFrameStack, DummyVecEnv"
   ]
  },
  {
   "cell_type": "code",
   "execution_count": null,
   "id": "05e7e63d-0482-4302-8fcd-c85716b6b88b",
   "metadata": {},
   "outputs": [],
   "source": [
    "# Creating the base environment\n",
    "env = gym_super_mario_bros.make('SuperMarioBros-v0', apply_api_compatibility=True, render_mode = 'human')\n",
    "# Simplifying the controls \n",
    "env = JoypadSpace(env, SIMPLE_MOVEMENT)\n",
    "# Grayscaling\n",
    "env = GrayScaleObservation(env, keep_dim=True)\n",
    "# Wraping inside the Dummy Environment\n",
    "env = DummyVecEnv([lambda: env])\n",
    "# Stacking the frames\n",
    "env = VecFrameStack(env, 4, channels_order='last')"
   ]
  },
  {
   "cell_type": "markdown",
   "id": "c4bd0aa7-f156-4c42-b2ab-918d77fa828d",
   "metadata": {},
   "source": [
    "## 3. Training the RL Model"
   ]
  },
  {
   "cell_type": "code",
   "execution_count": null,
   "id": "a91b1e0b-649a-4e79-86a6-ec497f1528a8",
   "metadata": {},
   "outputs": [],
   "source": [
    "# Importing os for file management\n",
    "import os\n",
    "# Importing PPO as the algo\n",
    "from stable_baselines3 import PPO\n",
    "# Importing BaseCallback to save models\n",
    "from stable_baselines3.common.callbacks import BaseCallback"
   ]
  },
  {
   "cell_type": "code",
   "execution_count": null,
   "id": "6c8fcaa7-ba8f-43cd-ac82-e1799289257a",
   "metadata": {},
   "outputs": [],
   "source": [
    "class TrainAndLoggingCallback(BaseCallback):\n",
    "    def __init__(self, check_freq, save_path, verbose=1):\n",
    "        super(TrainAndLoggingCallback, self).__init__(verbose)\n",
    "        self.check_freq = check_freq\n",
    "        self.save_path = save_path\n",
    "    def _init_callback(self):\n",
    "        if self.save_path is not None:\n",
    "            os.makedirs(self.save_path, exist_ok=True)\n",
    "    def _on_step(self):\n",
    "        if self.n_calls % self.check_freq == 0:\n",
    "            model_path = os.path.join(self.save_path, 'model_{}'.format(self.n_calls))\n",
    "            self.model.save(model_path)\n",
    "        return True"
   ]
  },
  {
   "cell_type": "code",
   "execution_count": null,
   "id": "f2e16af3-7834-4ccf-92a2-f225bbe90ec9",
   "metadata": {},
   "outputs": [],
   "source": [
    "# Path where the model is saved\n",
    "checkpoint_dir = './models/'\n",
    "# Path where logs are saved\n",
    "log_dir = './logs/'"
   ]
  },
  {
   "cell_type": "code",
   "execution_count": null,
   "id": "904eb33e-7c5c-4345-b2c5-4e679b1eaf37",
   "metadata": {},
   "outputs": [],
   "source": [
    "# Setting up callback\n",
    "callback = TrainAndLoggingCallback(check_freq = 10000, save_path = checkpoint_dir)"
   ]
  },
  {
   "cell_type": "code",
   "execution_count": null,
   "id": "6161a43c-d71a-4d7f-8654-1c8c57670446",
   "metadata": {},
   "outputs": [],
   "source": [
    "# Creating the model\n",
    "model = PPO('CnnPolicy', env, verbose = 1, tensorboard_log = log_dir, learning_rate = 0.00001, n_steps = 512)"
   ]
  },
  {
   "cell_type": "code",
   "execution_count": null,
   "id": "8b03b000-21a9-4b0e-b972-abcd36a6a1a7",
   "metadata": {},
   "outputs": [],
   "source": [
    "# Training the model\n",
    "model.learn(total_timesteps = 1000000, callback = callback)"
   ]
  },
  {
   "cell_type": "markdown",
   "id": "2d2d44cc-2fff-4907-a14e-2959a725a8d9",
   "metadata": {},
   "source": [
    "## 4. Evaluating the Model (1,000,000 Timesteps)"
   ]
  },
  {
   "cell_type": "code",
   "execution_count": null,
   "id": "47306886-9a82-4fb0-8d44-7c3aae190b5e",
   "metadata": {},
   "outputs": [],
   "source": [
    "# Selecting the best model\n",
    "model = PPO.load('./models/model_850000')"
   ]
  },
  {
   "cell_type": "code",
   "execution_count": null,
   "id": "efa5b631-9018-4f6c-b107-983cc17c42f0",
   "metadata": {},
   "outputs": [],
   "source": [
    "# Creating the base environment\n",
    "env = gym_super_mario_bros.make('SuperMarioBros-v0', apply_api_compatibility=True, render_mode = 'human')\n",
    "# Simplifying the controls \n",
    "env = JoypadSpace(env, SIMPLE_MOVEMENT)\n",
    "# Grayscaling\n",
    "env = GrayScaleObservation(env, keep_dim=True)\n",
    "# Wraping inside the Dummy Environment\n",
    "env = DummyVecEnv([lambda: env])\n",
    "# Stacking the frames\n",
    "env = VecFrameStack(env, 4, channels_order='last')\n",
    "# Starting the environment\n",
    "state = env.reset()"
   ]
  },
  {
   "cell_type": "code",
   "execution_count": null,
   "id": "35e66b68-9ee5-401c-a553-ef04d237f95a",
   "metadata": {},
   "outputs": [],
   "source": [
    "while True:\n",
    "    action, _state = model.predict(state)\n",
    "    state, reward, done, info = env.step(action)\n",
    "    env.render()"
   ]
  },
  {
   "cell_type": "code",
   "execution_count": null,
   "id": "2aa12775-a000-4e21-9fa7-68e13f2a909a",
   "metadata": {},
   "outputs": [],
   "source": [
    "env.close()"
   ]
  },
  {
   "cell_type": "markdown",
   "id": "26cf752a-f7a1-4bd0-8874-9b3949d13f7b",
   "metadata": {},
   "source": [
    "## 5. Fine-Tuning the Best Model (1,000,000 to 2,000,000 Timesteps)"
   ]
  },
  {
   "cell_type": "code",
   "execution_count": null,
   "id": "89da79d2-7b5e-42e9-81b4-3db1b19a8309",
   "metadata": {},
   "outputs": [],
   "source": [
    "# Creating the base environment\n",
    "env = gym_super_mario_bros.make('SuperMarioBros-v0', apply_api_compatibility=True, render_mode = 'human')\n",
    "# Simplifying the controls \n",
    "env = JoypadSpace(env, SIMPLE_MOVEMENT)\n",
    "# Grayscaling\n",
    "env = GrayScaleObservation(env, keep_dim=True)\n",
    "# Wraping inside the Dummy Environment\n",
    "env = DummyVecEnv([lambda: env])\n",
    "# Stacking the frames\n",
    "env = VecFrameStack(env, 4, channels_order='last')"
   ]
  },
  {
   "cell_type": "code",
   "execution_count": null,
   "id": "7b061db6-26fa-45d3-bf7c-abacd0c9b717",
   "metadata": {},
   "outputs": [],
   "source": [
    "# Changing the dirs\n",
    "checkpoint_dir = './models/850000/'\n",
    "log_dir = './logs/850000/'"
   ]
  },
  {
   "cell_type": "code",
   "execution_count": null,
   "id": "4532afba-1832-495e-9ba4-3b112cd34be7",
   "metadata": {},
   "outputs": [],
   "source": [
    "# Setting up callback\n",
    "callback = TrainAndLoggingCallback(check_freq = 10000, save_path = checkpoint_dir)"
   ]
  },
  {
   "cell_type": "code",
   "execution_count": null,
   "id": "ee73fe12-f485-4293-a536-2925e85a3537",
   "metadata": {},
   "outputs": [],
   "source": [
    "# Setting the hyperparameters of the model to train further\n",
    "model.set_env(env)\n",
    "model.tensorboard_log = log_dir\n",
    "model.learning_rate = 0.00001"
   ]
  },
  {
   "cell_type": "code",
   "execution_count": null,
   "id": "b16d98ac-e967-4894-a80b-b85eed020013",
   "metadata": {},
   "outputs": [],
   "source": [
    "# Training the previously selected best model\n",
    "model.learn(total_timesteps = 1000000, callback = callback)"
   ]
  },
  {
   "cell_type": "markdown",
   "id": "6b9982b6-cd80-40be-bd31-5b43ec0f2094",
   "metadata": {},
   "source": [
    "## 6. Evaluating the Fine-Tuned Model (2,000,000 Timesteps)"
   ]
  },
  {
   "cell_type": "code",
   "execution_count": null,
   "id": "9f557d08-aa62-443e-9dd6-cf263033bd92",
   "metadata": {},
   "outputs": [],
   "source": [
    "# Selecting the best model\n",
    "model = PPO.load('./models/850000/model_930000')"
   ]
  },
  {
   "cell_type": "code",
   "execution_count": null,
   "id": "941e25e2-ca8f-4669-b0b2-ec9ac7359d84",
   "metadata": {},
   "outputs": [],
   "source": [
    "# Creating the base environment\n",
    "env = gym_super_mario_bros.make('SuperMarioBros-v0', apply_api_compatibility=True, render_mode = 'human')\n",
    "# Simplifying the controls \n",
    "env = JoypadSpace(env, SIMPLE_MOVEMENT)\n",
    "# Grayscaling\n",
    "env = GrayScaleObservation(env, keep_dim=True)\n",
    "# Wraping inside the Dummy Environment\n",
    "env = DummyVecEnv([lambda: env])\n",
    "# Stacking the frames\n",
    "env = VecFrameStack(env, 4, channels_order='last')\n",
    "# Starting the environment\n",
    "state = env.reset()"
   ]
  },
  {
   "cell_type": "code",
   "execution_count": null,
   "id": "82a536a0-5e63-4757-b011-973c508e5486",
   "metadata": {},
   "outputs": [],
   "source": [
    "while True:\n",
    "    action, _state = model.predict(state)\n",
    "    state, reward, done, info = env.step(action)\n",
    "    env.render()"
   ]
  },
  {
   "cell_type": "code",
   "execution_count": null,
   "id": "5dd17b9a-b43f-4b61-b78e-83c0420873ad",
   "metadata": {},
   "outputs": [],
   "source": [
    "env.close()"
   ]
  },
  {
   "cell_type": "markdown",
   "id": "617bd456-4d1e-430a-a4b0-2d216d5a43a2",
   "metadata": {},
   "source": [
    "## 7. Advanced Fine-Tuning (2,000,000 to 3,000,000 Timesteps)"
   ]
  },
  {
   "cell_type": "code",
   "execution_count": null,
   "id": "f20dcac3-6f4d-489c-a6de-62cb7c8c5807",
   "metadata": {},
   "outputs": [],
   "source": [
    "# Creating the base environment\n",
    "env = gym_super_mario_bros.make('SuperMarioBros-v0', apply_api_compatibility=True, render_mode = 'human')\n",
    "# Simplifying the controls \n",
    "env = JoypadSpace(env, SIMPLE_MOVEMENT)\n",
    "# Grayscaling\n",
    "env = GrayScaleObservation(env, keep_dim=True)\n",
    "# Wraping inside the Dummy Environment\n",
    "env = DummyVecEnv([lambda: env])\n",
    "# Stacking the frames\n",
    "env = VecFrameStack(env, 4, channels_order='last')"
   ]
  },
  {
   "cell_type": "code",
   "execution_count": null,
   "id": "113d1b5f-514d-46f8-9452-c3cae493e2f7",
   "metadata": {},
   "outputs": [],
   "source": [
    "# Changing the dirs\n",
    "checkpoint_dir = './models/850000/930000/'\n",
    "log_dir = './logs/850000/930000/'"
   ]
  },
  {
   "cell_type": "code",
   "execution_count": null,
   "id": "c4243f2e-d474-4e50-949f-e61efa01a487",
   "metadata": {},
   "outputs": [],
   "source": [
    "# Setting up callback\n",
    "callback = TrainAndLoggingCallback(check_freq = 10000, save_path = checkpoint_dir)"
   ]
  },
  {
   "cell_type": "code",
   "execution_count": null,
   "id": "050faaa3-e79b-4acb-8037-f861979f0ce8",
   "metadata": {},
   "outputs": [],
   "source": [
    "# Setting the hyperparameters of the model to train further\n",
    "model.set_env(env)\n",
    "model.tensorboard_log = log_dir\n",
    "model.learning_rate = 0.00001"
   ]
  },
  {
   "cell_type": "code",
   "execution_count": null,
   "id": "ebe8f2c1-f7d0-4510-a327-1e88eb0b67bc",
   "metadata": {},
   "outputs": [],
   "source": [
    "# Training the previously selected best model\n",
    "model.learn(total_timesteps = 1000000, callback = callback)"
   ]
  },
  {
   "cell_type": "markdown",
   "id": "12bbfd11-1796-49a4-8295-e143492e192f",
   "metadata": {},
   "source": [
    "## 8. Evaluating the Advanced Fine-Tuned Model (3,000,000 Timesteps)"
   ]
  },
  {
   "cell_type": "code",
   "execution_count": null,
   "id": "43c65e95-c7ce-4ad8-a38c-70552139eefa",
   "metadata": {},
   "outputs": [],
   "source": [
    "# Selecting the best model\n",
    "model = PPO.load('./models/850000/930000/model_930000')"
   ]
  },
  {
   "cell_type": "code",
   "execution_count": null,
   "id": "c347f2ff-f30c-4745-9259-6188d1aab157",
   "metadata": {},
   "outputs": [],
   "source": [
    "# Creating the base environment\n",
    "env = gym_super_mario_bros.make('SuperMarioBros-v0', apply_api_compatibility=True, render_mode = 'human')\n",
    "# Simplifying the controls \n",
    "env = JoypadSpace(env, SIMPLE_MOVEMENT)\n",
    "# Grayscaling\n",
    "env = GrayScaleObservation(env, keep_dim=True)\n",
    "# Wraping inside the Dummy Environment\n",
    "env = DummyVecEnv([lambda: env])\n",
    "# Stacking the frames\n",
    "env = VecFrameStack(env, 4, channels_order='last')\n",
    "# Starting the environment\n",
    "state = env.reset()"
   ]
  },
  {
   "cell_type": "code",
   "execution_count": null,
   "id": "cbaf5d9f-3fc2-4692-a5fa-3ce7a9e3475f",
   "metadata": {},
   "outputs": [],
   "source": [
    "while True:\n",
    "    action, _state = model.predict(state)\n",
    "    state, reward, done, info = env.step(action)\n",
    "    env.render()"
   ]
  },
  {
   "cell_type": "code",
   "execution_count": null,
   "id": "1d0c1c67-c576-4d9d-9ddd-3b704b830ad2",
   "metadata": {},
   "outputs": [],
   "source": [
    "env.close()"
   ]
  },
  {
   "cell_type": "markdown",
   "id": "4bdb3aea-ebe3-4695-b614-178f4d2b8bd3",
   "metadata": {},
   "source": [
    "## 9. Final Fine-Tuning (3,000,000 to 4,000,000 Timesteps)"
   ]
  },
  {
   "cell_type": "code",
   "execution_count": null,
   "id": "b547edac-a164-47b6-85ea-40d7c2dcee70",
   "metadata": {},
   "outputs": [],
   "source": [
    "# Creating the base environment\n",
    "env = gym_super_mario_bros.make('SuperMarioBros-v0', apply_api_compatibility=True, render_mode = 'human')\n",
    "# Simplifying the controls \n",
    "env = JoypadSpace(env, SIMPLE_MOVEMENT)\n",
    "# Grayscaling\n",
    "env = GrayScaleObservation(env, keep_dim=True)\n",
    "# Wraping inside the Dummy Environment\n",
    "env = DummyVecEnv([lambda: env])\n",
    "# Stacking the frames\n",
    "env = VecFrameStack(env, 4, channels_order='last')"
   ]
  },
  {
   "cell_type": "code",
   "execution_count": null,
   "id": "c0745aa2-256a-4371-b7eb-3a5d6f2ce86d",
   "metadata": {},
   "outputs": [],
   "source": [
    "checkpoint_dir = './models/850000/930000/930000/'\n",
    "log_dir = './logs/850000/930000/930000/'"
   ]
  },
  {
   "cell_type": "code",
   "execution_count": null,
   "id": "8a50a048-8a53-46dd-b603-6c1ad7390733",
   "metadata": {},
   "outputs": [],
   "source": [
    "# Setting up callback\n",
    "callback = TrainAndLoggingCallback(check_freq = 10000, save_path = checkpoint_dir)"
   ]
  },
  {
   "cell_type": "code",
   "execution_count": null,
   "id": "23099cb7-1aac-4e38-9d46-bc814eda79bb",
   "metadata": {},
   "outputs": [],
   "source": [
    "# Setting the hyperparameters of the model to train further\n",
    "model.set_env(env)\n",
    "model.tensorboard_log = log_dir\n",
    "model.learning_rate = 0.00001"
   ]
  },
  {
   "cell_type": "code",
   "execution_count": null,
   "id": "1818d6e6-3eac-4ae1-910d-93b0c328ed19",
   "metadata": {},
   "outputs": [],
   "source": [
    "# Training the previously selected best model\n",
    "model.learn(total_timesteps = 1000000, callback = callback)"
   ]
  },
  {
   "cell_type": "markdown",
   "id": "4c018ae0-cae7-4369-ba0a-79f010f04830",
   "metadata": {},
   "source": [
    "## 10. Evaluating the Final Fine-Tuned Model (4,000,000 Timesteps)"
   ]
  },
  {
   "cell_type": "code",
   "execution_count": null,
   "id": "b499de9b-0809-42b0-ac38-f4fc77fd4cfc",
   "metadata": {},
   "outputs": [],
   "source": [
    "# Selecting the best model\n",
    "model = PPO.load('./models/850000/930000/930000/model_750000/')"
   ]
  },
  {
   "cell_type": "code",
   "execution_count": null,
   "id": "9561afd3-f0dc-414f-a00c-23d2eb88496e",
   "metadata": {},
   "outputs": [],
   "source": [
    "# Creating the base environment\n",
    "env = gym_super_mario_bros.make('SuperMarioBros-v0', apply_api_compatibility=True, render_mode = 'human')\n",
    "# Simplifying the controls \n",
    "env = JoypadSpace(env, SIMPLE_MOVEMENT)\n",
    "# Grayscaling\n",
    "env = GrayScaleObservation(env, keep_dim=True)\n",
    "# Wraping inside the Dummy Environment\n",
    "env = DummyVecEnv([lambda: env])\n",
    "# Stacking the frames\n",
    "env = VecFrameStack(env, 4, channels_order='last')\n",
    "# Starting the environment\n",
    "state = env.reset()"
   ]
  },
  {
   "cell_type": "code",
   "execution_count": null,
   "id": "25e54a74-4e2a-4471-9992-4fadf5634f49",
   "metadata": {},
   "outputs": [],
   "source": [
    "while True:\n",
    "    action, _state = model.predict(state)\n",
    "    state, reward, done, info = env.step(action)\n",
    "    env.render()"
   ]
  },
  {
   "cell_type": "code",
   "execution_count": null,
   "id": "1e89b174-d109-4cf0-9052-61040465c501",
   "metadata": {},
   "outputs": [],
   "source": [
    "env.close()"
   ]
  }
 ],
 "metadata": {
  "kernelspec": {
   "display_name": "Python 3 (ipykernel)",
   "language": "python",
   "name": "python3"
  },
  "language_info": {
   "codemirror_mode": {
    "name": "ipython",
    "version": 3
   },
   "file_extension": ".py",
   "mimetype": "text/x-python",
   "name": "python",
   "nbconvert_exporter": "python",
   "pygments_lexer": "ipython3",
   "version": "3.8.19"
  }
 },
 "nbformat": 4,
 "nbformat_minor": 5
}
